{
 "cells": [
  {
   "cell_type": "code",
   "execution_count": 2,
   "metadata": {},
   "outputs": [],
   "source": [
    "import numpy as np\n",
    "import pandas as pd\n",
    "from sklearn.decomposition import PCA\n",
    "from scipy.optimize import minimize\n",
    "import matplotlib.pyplot as plt\n",
    "from tqdm import tqdm_notebook as tqdm\n",
    "%matplotlib inline"
   ]
  },
  {
   "cell_type": "markdown",
   "metadata": {},
   "source": [
    "__Vasicek Model:__ $dr_t = \\alpha(b-r_t)dt + \\sigma dW_t$   \n",
    "Точное решение: $r_t \\sim N\\left(r_0 e^{-\\alpha t} + b (1-e^{-\\alpha t}),\\,\\tfrac{\\sigma^2}{2\\alpha}\\left(1-e^{-2\\alpha t}\\right)\\right)\n",
    "$"
   ]
  },
  {
   "cell_type": "code",
   "execution_count": 3,
   "metadata": {},
   "outputs": [],
   "source": [
    "def minimizeNLogLikelihood(r):\n",
    "    dt = 1 \n",
    "    rt = r    \n",
    "    N = r.shape[0]\n",
    "    params0 = np.array([0.0000001,0.0000001,0.0000001])\n",
    "    \n",
    "    def VasicekLogLikelihood(params):\n",
    "        alpha, b, sigma = params[0], params[1], params[2] \n",
    "        return -(N-1)*np.log(alpha/(sigma**2*(1-np.exp(-2*alpha*dt)))) \\\n",
    "            - alpha/(sigma**2*(1-np.exp(-2*alpha*dt)))*np.sum(-(rt[:-1] - rt[1:]*np.exp(-alpha*dt)-b*(1-np.exp(-alpha*dt)))**2) \n",
    "    \n",
    "    params_opt = minimize(VasicekLogLikelihood, params0, method='Powell')\n",
    "    return params_opt.x"
   ]
  },
  {
   "cell_type": "code",
   "execution_count": 4,
   "metadata": {},
   "outputs": [],
   "source": [
    "def MSE(r):\n",
    "\n",
    "    dt = 1 \n",
    "    N = r.shape[0]\n",
    "    params0 = np.array([0.0000001,0.0000001,0.0000001])\n",
    "    \n",
    "    def VasicekLogLikelihood(params):\n",
    "        alpha, b, sigma = params[0], params[1], params[2] \n",
    "        return np.mean((r[1:] - r[:-1] - (alpha*(b -r[:-1]) + sigma*np.random.randn()))**2)\n",
    "    \n",
    "    params_opt = minimize(VasicekLogLikelihood, params0, method='Powell')\n",
    "    return params_opt.x"
   ]
  },
  {
   "cell_type": "code",
   "execution_count": 5,
   "metadata": {},
   "outputs": [],
   "source": [
    "def ClosestTradeDate(day, dates):\n",
    "    return dates[dates <= day][-1]\n",
    "    "
   ]
  },
  {
   "cell_type": "code",
   "execution_count": 6,
   "metadata": {},
   "outputs": [],
   "source": [
    "def estimate_params(components, n_components):\n",
    "    params = np.zeros((n_components,3))\n",
    "\n",
    "    for i in range(n_components):\n",
    "        params[i] = minimizeNLogLikelihood(components[:,i])\n",
    "\n",
    "    return params"
   ]
  },
  {
   "cell_type": "code",
   "execution_count": 7,
   "metadata": {},
   "outputs": [],
   "source": [
    "def estimate_params_MSE(components, n_components):\n",
    "    params = np.zeros((n_components,3))\n",
    "\n",
    "    for i in range(n_components):\n",
    "        params[i] = MSE(components[:,i])\n",
    "\n",
    "    return params"
   ]
  },
  {
   "cell_type": "code",
   "execution_count": 8,
   "metadata": {},
   "outputs": [],
   "source": [
    "def load_bonds(bond_count, forDate):\n",
    " \n",
    "    bond_info = {}\n",
    "\n",
    "    for i in range( bond_count):\n",
    "        bond_i = i\n",
    "\n",
    "        coupons =pd.read_excel('New data/офз_график_выплат.xlsx', bond_i)[['Date', 'Coupon']].astype({'Date':'M8[D]'})\n",
    "\n",
    "        coupons_date = coupons['Date'].values\n",
    "\n",
    "\n",
    "    \n",
    "        info = pd.read_excel('New data/офз_описание.xlsx',bond_i, index_col=0)\n",
    "        num_coupons = info.loc['Периодичность выплаты купона в год'].values[0]\n",
    "        \n",
    "        coupons_rate = coupons['Coupon'].values/num_coupons/100\n",
    "        coupons_rate = coupons_rate[coupons_date > forDate]\n",
    "\n",
    "        coupons_date = coupons_date[coupons_date > forDate].reshape(-1,1)\n",
    "        expDate = np.datetime64(info.loc['Дата погашения'].values[0])\n",
    "\n",
    "        face = info.loc['Номинальная стоимость'].values[0]\n",
    "\n",
    "        bond_info[i] = {\n",
    "            'coupons_date': coupons_date,\n",
    "            'coupons_rate': coupons_rate,\n",
    "            'expDate': expDate,\n",
    "            'face': face\n",
    "        }\n",
    "    return bond_info\n"
   ]
  },
  {
   "cell_type": "code",
   "execution_count": 9,
   "metadata": {},
   "outputs": [],
   "source": [
    "# def VasicekPath(params,r0, N):\n",
    "#     dt = 1    \n",
    "#     alpha, b, sigma = params[0], params[1], params[2]\n",
    "#     r = [] # варианты аля-ставки на один из аля-TtM  \n",
    "#     for j in range(N):\n",
    "#         r1 = r0 + alpha*(b-r0)*dt + sigma*np.sqrt(dt)*np.random.randn()\n",
    "#         r.append(r1)\n",
    "#     return r\n",
    "\n",
    "def VasicekPath(params,r0, N, days_for_predict):\n",
    "    dt = 1    \n",
    "    alpha, b, sigma = params[0], params[1], params[2]\n",
    "    simulations = np.zeros((N,days_for_predict)) # варианты аля-ставки на один из аля-TtM  \n",
    "    \n",
    "    \n",
    "    for j in range(N):\n",
    "        r = [r0]\n",
    "        for d in range(days_for_predict):\n",
    "            R = alpha*(b-r[-1])*dt + sigma*np.sqrt(dt)*np.random.randn()\n",
    "            r.append(r[-1] + R)\n",
    "        simulations[j] = r[1:]\n",
    "    return simulations"
   ]
  },
  {
   "cell_type": "code",
   "execution_count": 10,
   "metadata": {},
   "outputs": [],
   "source": [
    "from scipy.interpolate import interp1d\n",
    "\n",
    "\n",
    "def interpolate(bond_count, pca, r0, bond_info, N, days_for_predict):\n",
    "    inverse_r0 = np.array([r0.values for i in range(N)])\n",
    "    \n",
    "    x_axis = [0]+list(r0.index*252)\n",
    "    xnew = np.arange(0, 30*252, 1)\n",
    "    \n",
    "    for bond_i in range(bond_count):\n",
    "    #переводим аля-ставки в разности реальных ставок \n",
    "        inverse_r = pca.inverse_transform(bond_info[bond_i]['simulations'])\n",
    "        ytm = np.cumsum(np.concatenate((inverse_r0[None, :, :], inverse_r)), 0)\n",
    "\n",
    "        inverse_r_interpolate = np.zeros((days_for_predict+1, N, len(xnew)))\n",
    "\n",
    "        for i, data in enumerate(ytm):\n",
    "            for k, ofz in enumerate(data):\n",
    "                y = [0]+list(ofz)\n",
    "\n",
    "                f = interp1d(x_axis, y)\n",
    "                ynew = f(xnew)\n",
    "\n",
    "                inverse_r_interpolate[i, k] = ynew\n",
    "                \n",
    "        bond_info[bond_i]['inverse_r_interpolate'] = inverse_r_interpolate\n",
    "    return bond_info"
   ]
  },
  {
   "cell_type": "code",
   "execution_count": 11,
   "metadata": {},
   "outputs": [],
   "source": [
    "def PriceBond(bond_params, tradeDate, days_for_predict,  N=10):\n",
    "    coupons_date = bond_params['coupons_date']\n",
    "    couponRate = bond_params['coupons_rate']\n",
    "    FaseValue = bond_params['face']/10\n",
    "    inverse_r_interpolate = bond_params['inverse_r_interpolate']\n",
    "\n",
    "    TimeToMaturity = np.apply_along_axis(lambda x: int((x - tradeDate)/np.timedelta64(1,'D')), 1, coupons_date)\n",
    "    B = np.zeros((N, days_for_predict+1))\n",
    "\n",
    "    for i in range(N): \n",
    "        \n",
    "        #для каждого купона считаем его динамику цены (делим значение купона на показатель дисконтирования)\n",
    "        for j, k in enumerate(TimeToMaturity):        \n",
    "            V = FaseValue*couponRate[j] if j != len(TimeToMaturity)-1 else FaseValue*(1+couponRate[j])  \n",
    "\n",
    "            X = []\n",
    "            \n",
    "            for d in range(days_for_predict+1):\n",
    "                X.append(V/(1+inverse_r_interpolate[d][i][k-d])**(k-d))\n",
    "\n",
    "            B[i] += X\n",
    "        \n",
    "    return B"
   ]
  },
  {
   "cell_type": "code",
   "execution_count": 12,
   "metadata": {},
   "outputs": [],
   "source": [
    "def estimate_r(bond_count, params, r0_diff, days_for_predict=1,  N=100):\n",
    "    for bond_i in range(bond_count):\n",
    "        r = []    \n",
    "        for j in range(params.shape[0]):        \n",
    "            r.append(VasicekPath(params[j], r0_diff[j], N, days_for_predict))\n",
    "\n",
    "        bond_info[bond_i]['simulations'] = np.array(r).T\n",
    "    return bond_info"
   ]
  },
  {
   "cell_type": "code",
   "execution_count": 13,
   "metadata": {},
   "outputs": [],
   "source": [
    "def estimate_price(bond_count, bond_info, N, tradeDate):\n",
    "\n",
    "    for i in range(bond_count):\n",
    "\n",
    "        p = PriceBond(bond_info[i], tradeDate,  days_for_predict, N=N)\n",
    "\n",
    "        bond_info[i]['price_path'] = p\n",
    "        \n",
    "        \n",
    "    return bond_info"
   ]
  },
  {
   "cell_type": "markdown",
   "metadata": {},
   "source": [
    "### смотрим на весь портфель из облигаций на 1 день"
   ]
  },
  {
   "cell_type": "code",
   "execution_count": null,
   "metadata": {},
   "outputs": [],
   "source": []
  },
  {
   "cell_type": "code",
   "execution_count": 14,
   "metadata": {},
   "outputs": [],
   "source": [
    "def load_real_price(bond_count, price_data, tradeDate, forecastDate):\n",
    "    p0 = np.array([])\n",
    "    p_last = np.array([])\n",
    "\n",
    "    for i in range(bond_count):\n",
    "#         bond_price = pd.read_excel('New data/офз_данные.xlsx', i, index_col=2).iloc[:, 6:7]\n",
    "#         bond_price.columns=['price']\n",
    "        bond_price = price_data[i]\n",
    "\n",
    "        p0 = np.append(p0, bond_price.loc[tradeDate]['price'])\n",
    "        p_last = np.append(p_last, bond_price.loc[forecastDate]['price'])\n",
    "\n",
    "#         bond_result = bond_info[i]\n",
    "#         dates_index = pd.date_range(tradeDate1, bond_result['expDate'])[:-1]\n",
    "#         p_path = pd.DataFrame(bond_result['price_path'], columns=dates_index)\n",
    "        \n",
    "\n",
    "\n",
    "    return p0, p_last"
   ]
  },
  {
   "cell_type": "code",
   "execution_count": 15,
   "metadata": {},
   "outputs": [],
   "source": [
    "def pricePortfolioInitial(p_real, bond_value = 1):\n",
    "    w = bond_value/p_real\n",
    "    return np.sum(w*p_real), w\n",
    "\n",
    "def pricePortfolio(price, w):\n",
    "    if len(price.shape) == 2:\n",
    "        return np.sum(w[:, None]*price, 0)\n",
    "    else: \n",
    "        return np.sum(w*price)"
   ]
  },
  {
   "cell_type": "code",
   "execution_count": 50,
   "metadata": {},
   "outputs": [],
   "source": [
    "def rebalance(amount0, p_path):\n",
    "    w = amount0 / sum(amount0)\n",
    "    \n",
    "    count = amount0 / p_path[:, 0]\n",
    "    \n",
    "    for i in range(1, p_path.shape[1]):\n",
    "        p = p_path[:, i]\n",
    "        port_value = sum(p * count)\n",
    "        count = (port_value * w) / p\n",
    "        \n",
    "        \n",
    "    return sum(count * p)\n",
    "\n",
    "\n",
    "def estimate_VaR(amount0, p_pathes, N, alpha=0.999):\n",
    "    p0_real = p_pathes[:, 0, 0]\n",
    "    \n",
    "    port_value_0 = sum(amount0)\n",
    "    \n",
    "    port_value_last = np.zeros(N)\n",
    "    \n",
    "    for i in range(N):\n",
    "        p_path = np.array([x[i] for x in p_pathes])\n",
    "        port_value_last[i] = rebalance(amount0, p_path)\n",
    "        \n",
    "    distr = (port_value_0 - port_value_last) / port_value_0\n",
    "\n",
    "    return np.percentile(distr, alpha*100), distr, port_value_last\n",
    "    \n",
    "def real_loss(p0, p_last, amount0):\n",
    "    count = amount0 / p0\n",
    "    return((sum(amount0) - sum(count * p_last)) / sum(amount0))\n",
    "    "
   ]
  },
  {
   "cell_type": "code",
   "execution_count": 51,
   "metadata": {},
   "outputs": [],
   "source": [
    "def make_true_price_path(bond_count, bond_info, p0_real, N, days_for_predict):\n",
    "    \n",
    "    \n",
    "    for i in range(bond_count):\n",
    "        yields = bond_info[i]['price_path'][:, 1:] / bond_info[i]['price_path'][:, :-1]\n",
    "        yields = yields[:, :days_for_predict]\n",
    "\n",
    "        bond_info[i]['price_path'] = np.cumprod(np.concatenate((p0_real[i] + np.zeros((N,1)), \n",
    "                   yields), 1), 1)\n",
    "        \n",
    "        \n",
    "    return  bond_info    "
   ]
  },
  {
   "cell_type": "code",
   "execution_count": 71,
   "metadata": {},
   "outputs": [],
   "source": [
    "ir = pd.read_excel('офз.xlsx', index_col=0, header=1) / 100/252\n",
    "\n",
    "dates = np.array(['-'.join(x.split('.')[::-1]) for x in ir.index]).astype('M8[D]')\n",
    "ir.index = dates\n",
    "ir.sort_index(inplace=True)\n",
    "dates = dates[::-1][1:]\n",
    "\n",
    "ir_diff = ir.diff().dropna()# берем разности\n",
    "\n",
    "n_components = 3\n",
    "pca = PCA(n_components=n_components)\n",
    "components = pca.fit_transform(ir_diff)\n",
    "\n"
   ]
  },
  {
   "cell_type": "code",
   "execution_count": 79,
   "metadata": {
    "scrolled": true
   },
   "outputs": [
    {
     "name": "stdout",
     "output_type": "stream",
     "text": [
      "last traid date before forecase 2018-01-05\n",
      "forecast date 2018-01-09\n",
      "VaR -0.004532302524210738 loss 0.0006406872992742806\n",
      "1\n",
      "last traid date before forecase 2018-01-09\n",
      "forecast date 2018-01-10\n",
      "VaR -0.006207588146836672 loss -0.0028625918169505895\n",
      "2\n",
      "last traid date before forecase 2018-01-10\n",
      "forecast date 2018-01-11\n",
      "VaR 0.010999813620673787 loss 0.002013787498962134\n",
      "2\n",
      "last traid date before forecase 2018-01-11\n",
      "forecast date 2018-01-12\n",
      "VaR -0.0023267771437545724 loss 0.0001724916793394834\n",
      "3\n",
      "last traid date before forecase 2018-01-12\n",
      "forecast date 2018-01-15\n",
      "VaR -0.004551091816486984 loss -0.0002322726925421506\n",
      "4\n",
      "last traid date before forecase 2018-01-15\n",
      "forecast date 2018-01-16\n",
      "VaR -0.005650904197626613 loss -0.0007251698968034237\n",
      "5\n",
      "last traid date before forecase 2018-01-16\n",
      "forecast date 2018-01-17\n",
      "VaR 0.05301298421044709 loss 2.520934599749744e-05\n",
      "5\n",
      "last traid date before forecase 2018-01-17\n",
      "forecast date 2018-01-18\n",
      "VaR -0.005804622600814517 loss 1.17930049829185e-05\n",
      "6\n",
      "last traid date before forecase 2018-01-18\n",
      "forecast date 2018-01-19\n",
      "VaR -0.006107493313497305 loss -0.0002757233171435073\n",
      "7\n",
      "last traid date before forecase 2018-01-19\n",
      "forecast date 2018-01-22\n",
      "VaR -0.005799849458412063 loss 0.0002351864878386259\n",
      "8\n",
      "last traid date before forecase 2018-01-22\n",
      "forecast date 2018-01-23\n",
      "VaR -0.004963955511901349 loss -5.026735133677721e-05\n",
      "9\n",
      "last traid date before forecase 2018-01-23\n",
      "forecast date 2018-01-24\n",
      "VaR -0.014609007253773 loss 0.0006947184910519049\n",
      "10\n",
      "last traid date before forecase 2018-01-24\n",
      "forecast date 2018-01-25\n"
     ]
    },
    {
     "ename": "KeyboardInterrupt",
     "evalue": "",
     "output_type": "error",
     "traceback": [
      "\u001b[0;31m---------------------------------------------------------------------------\u001b[0m",
      "\u001b[0;31mKeyboardInterrupt\u001b[0m                         Traceback (most recent call last)",
      "\u001b[0;32m<ipython-input-79-1a3afb6b2e08>\u001b[0m in \u001b[0;36m<module>\u001b[0;34m()\u001b[0m\n\u001b[1;32m     36\u001b[0m \u001b[0;34m\u001b[0m\u001b[0m\n\u001b[1;32m     37\u001b[0m     \u001b[0mbond_info\u001b[0m \u001b[0;34m=\u001b[0m \u001b[0mestimate_r\u001b[0m\u001b[0;34m(\u001b[0m\u001b[0mbond_count\u001b[0m\u001b[0;34m,\u001b[0m \u001b[0mparams\u001b[0m\u001b[0;34m,\u001b[0m  \u001b[0mr0_diff\u001b[0m\u001b[0;34m,\u001b[0m \u001b[0mdays_for_predict\u001b[0m\u001b[0;34m=\u001b[0m\u001b[0mdays_for_predict\u001b[0m\u001b[0;34m,\u001b[0m \u001b[0mN\u001b[0m\u001b[0;34m=\u001b[0m\u001b[0mN\u001b[0m\u001b[0;34m)\u001b[0m\u001b[0;34m\u001b[0m\u001b[0m\n\u001b[0;32m---> 38\u001b[0;31m     \u001b[0mbond_info\u001b[0m \u001b[0;34m=\u001b[0m \u001b[0minterpolate\u001b[0m\u001b[0;34m(\u001b[0m\u001b[0mbond_count\u001b[0m\u001b[0;34m,\u001b[0m \u001b[0mpca\u001b[0m\u001b[0;34m,\u001b[0m \u001b[0mr0\u001b[0m\u001b[0;34m,\u001b[0m \u001b[0mbond_info\u001b[0m\u001b[0;34m,\u001b[0m \u001b[0mN\u001b[0m\u001b[0;34m,\u001b[0m \u001b[0mdays_for_predict\u001b[0m\u001b[0;34m)\u001b[0m\u001b[0;34m\u001b[0m\u001b[0m\n\u001b[0m\u001b[1;32m     39\u001b[0m     \u001b[0mbond_info\u001b[0m \u001b[0;34m=\u001b[0m \u001b[0mestimate_price\u001b[0m\u001b[0;34m(\u001b[0m\u001b[0mbond_count\u001b[0m\u001b[0;34m,\u001b[0m \u001b[0mbond_info\u001b[0m\u001b[0;34m,\u001b[0m \u001b[0mN\u001b[0m\u001b[0;34m,\u001b[0m \u001b[0mtradeDate\u001b[0m\u001b[0;34m)\u001b[0m\u001b[0;34m\u001b[0m\u001b[0m\n\u001b[1;32m     40\u001b[0m \u001b[0;34m\u001b[0m\u001b[0m\n",
      "\u001b[0;32m<ipython-input-10-3e7c5a9bd108>\u001b[0m in \u001b[0;36minterpolate\u001b[0;34m(bond_count, pca, r0, bond_info, N, days_for_predict)\u001b[0m\n\u001b[1;32m     20\u001b[0m \u001b[0;34m\u001b[0m\u001b[0m\n\u001b[1;32m     21\u001b[0m                 \u001b[0mf\u001b[0m \u001b[0;34m=\u001b[0m \u001b[0minterp1d\u001b[0m\u001b[0;34m(\u001b[0m\u001b[0mx_axis\u001b[0m\u001b[0;34m,\u001b[0m \u001b[0my\u001b[0m\u001b[0;34m)\u001b[0m\u001b[0;34m\u001b[0m\u001b[0m\n\u001b[0;32m---> 22\u001b[0;31m                 \u001b[0mynew\u001b[0m \u001b[0;34m=\u001b[0m \u001b[0mf\u001b[0m\u001b[0;34m(\u001b[0m\u001b[0mxnew\u001b[0m\u001b[0;34m)\u001b[0m\u001b[0;34m\u001b[0m\u001b[0m\n\u001b[0m\u001b[1;32m     23\u001b[0m \u001b[0;34m\u001b[0m\u001b[0m\n\u001b[1;32m     24\u001b[0m                 \u001b[0minverse_r_interpolate\u001b[0m\u001b[0;34m[\u001b[0m\u001b[0mi\u001b[0m\u001b[0;34m,\u001b[0m \u001b[0mk\u001b[0m\u001b[0;34m]\u001b[0m \u001b[0;34m=\u001b[0m \u001b[0mynew\u001b[0m\u001b[0;34m\u001b[0m\u001b[0m\n",
      "\u001b[0;32m~/anaconda3/lib/python3.6/site-packages/scipy/interpolate/polyint.py\u001b[0m in \u001b[0;36m__call__\u001b[0;34m(self, x)\u001b[0m\n\u001b[1;32m     77\u001b[0m         \"\"\"\n\u001b[1;32m     78\u001b[0m         \u001b[0mx\u001b[0m\u001b[0;34m,\u001b[0m \u001b[0mx_shape\u001b[0m \u001b[0;34m=\u001b[0m \u001b[0mself\u001b[0m\u001b[0;34m.\u001b[0m\u001b[0m_prepare_x\u001b[0m\u001b[0;34m(\u001b[0m\u001b[0mx\u001b[0m\u001b[0;34m)\u001b[0m\u001b[0;34m\u001b[0m\u001b[0m\n\u001b[0;32m---> 79\u001b[0;31m         \u001b[0my\u001b[0m \u001b[0;34m=\u001b[0m \u001b[0mself\u001b[0m\u001b[0;34m.\u001b[0m\u001b[0m_evaluate\u001b[0m\u001b[0;34m(\u001b[0m\u001b[0mx\u001b[0m\u001b[0;34m)\u001b[0m\u001b[0;34m\u001b[0m\u001b[0m\n\u001b[0m\u001b[1;32m     80\u001b[0m         \u001b[0;32mreturn\u001b[0m \u001b[0mself\u001b[0m\u001b[0;34m.\u001b[0m\u001b[0m_finish_y\u001b[0m\u001b[0;34m(\u001b[0m\u001b[0my\u001b[0m\u001b[0;34m,\u001b[0m \u001b[0mx_shape\u001b[0m\u001b[0;34m)\u001b[0m\u001b[0;34m\u001b[0m\u001b[0m\n\u001b[1;32m     81\u001b[0m \u001b[0;34m\u001b[0m\u001b[0m\n",
      "\u001b[0;32m~/anaconda3/lib/python3.6/site-packages/scipy/interpolate/interpolate.py\u001b[0m in \u001b[0;36m_evaluate\u001b[0;34m(self, x_new)\u001b[0m\n\u001b[1;32m    660\u001b[0m         \u001b[0;31m#    The behavior is set by the bounds_error variable.\u001b[0m\u001b[0;34m\u001b[0m\u001b[0;34m\u001b[0m\u001b[0m\n\u001b[1;32m    661\u001b[0m         \u001b[0mx_new\u001b[0m \u001b[0;34m=\u001b[0m \u001b[0masarray\u001b[0m\u001b[0;34m(\u001b[0m\u001b[0mx_new\u001b[0m\u001b[0;34m)\u001b[0m\u001b[0;34m\u001b[0m\u001b[0m\n\u001b[0;32m--> 662\u001b[0;31m         \u001b[0my_new\u001b[0m \u001b[0;34m=\u001b[0m \u001b[0mself\u001b[0m\u001b[0;34m.\u001b[0m\u001b[0m_call\u001b[0m\u001b[0;34m(\u001b[0m\u001b[0mself\u001b[0m\u001b[0;34m,\u001b[0m \u001b[0mx_new\u001b[0m\u001b[0;34m)\u001b[0m\u001b[0;34m\u001b[0m\u001b[0m\n\u001b[0m\u001b[1;32m    663\u001b[0m         \u001b[0;32mif\u001b[0m \u001b[0;32mnot\u001b[0m \u001b[0mself\u001b[0m\u001b[0;34m.\u001b[0m\u001b[0m_extrapolate\u001b[0m\u001b[0;34m:\u001b[0m\u001b[0;34m\u001b[0m\u001b[0m\n\u001b[1;32m    664\u001b[0m             \u001b[0mbelow_bounds\u001b[0m\u001b[0;34m,\u001b[0m \u001b[0mabove_bounds\u001b[0m \u001b[0;34m=\u001b[0m \u001b[0mself\u001b[0m\u001b[0;34m.\u001b[0m\u001b[0m_check_bounds\u001b[0m\u001b[0;34m(\u001b[0m\u001b[0mx_new\u001b[0m\u001b[0;34m)\u001b[0m\u001b[0;34m\u001b[0m\u001b[0m\n",
      "\u001b[0;32m~/anaconda3/lib/python3.6/site-packages/scipy/interpolate/interpolate.py\u001b[0m in \u001b[0;36m_call_linear_np\u001b[0;34m(self, x_new)\u001b[0m\n\u001b[1;32m    584\u001b[0m     \u001b[0;32mdef\u001b[0m \u001b[0m_call_linear_np\u001b[0m\u001b[0;34m(\u001b[0m\u001b[0mself\u001b[0m\u001b[0;34m,\u001b[0m \u001b[0mx_new\u001b[0m\u001b[0;34m)\u001b[0m\u001b[0;34m:\u001b[0m\u001b[0;34m\u001b[0m\u001b[0m\n\u001b[1;32m    585\u001b[0m         \u001b[0;31m# Note that out-of-bounds values are taken care of in self._evaluate\u001b[0m\u001b[0;34m\u001b[0m\u001b[0;34m\u001b[0m\u001b[0m\n\u001b[0;32m--> 586\u001b[0;31m         \u001b[0;32mreturn\u001b[0m \u001b[0mnp\u001b[0m\u001b[0;34m.\u001b[0m\u001b[0minterp\u001b[0m\u001b[0;34m(\u001b[0m\u001b[0mx_new\u001b[0m\u001b[0;34m,\u001b[0m \u001b[0mself\u001b[0m\u001b[0;34m.\u001b[0m\u001b[0mx\u001b[0m\u001b[0;34m,\u001b[0m \u001b[0mself\u001b[0m\u001b[0;34m.\u001b[0m\u001b[0my\u001b[0m\u001b[0;34m)\u001b[0m\u001b[0;34m\u001b[0m\u001b[0m\n\u001b[0m\u001b[1;32m    587\u001b[0m \u001b[0;34m\u001b[0m\u001b[0m\n\u001b[1;32m    588\u001b[0m     \u001b[0;32mdef\u001b[0m \u001b[0m_call_linear\u001b[0m\u001b[0;34m(\u001b[0m\u001b[0mself\u001b[0m\u001b[0;34m,\u001b[0m \u001b[0mx_new\u001b[0m\u001b[0;34m)\u001b[0m\u001b[0;34m:\u001b[0m\u001b[0;34m\u001b[0m\u001b[0m\n",
      "\u001b[0;32m~/anaconda3/lib/python3.6/site-packages/numpy/lib/function_base.py\u001b[0m in \u001b[0;36minterp\u001b[0;34m(x, xp, fp, left, right, period)\u001b[0m\n\u001b[1;32m   2059\u001b[0m             \u001b[0;32mreturn\u001b[0m \u001b[0minterp_func\u001b[0m\u001b[0;34m(\u001b[0m\u001b[0;34m[\u001b[0m\u001b[0mx\u001b[0m\u001b[0;34m]\u001b[0m\u001b[0;34m,\u001b[0m \u001b[0mxp\u001b[0m\u001b[0;34m,\u001b[0m \u001b[0mfp\u001b[0m\u001b[0;34m,\u001b[0m \u001b[0mleft\u001b[0m\u001b[0;34m,\u001b[0m \u001b[0mright\u001b[0m\u001b[0;34m)\u001b[0m\u001b[0;34m.\u001b[0m\u001b[0mitem\u001b[0m\u001b[0;34m(\u001b[0m\u001b[0;34m)\u001b[0m\u001b[0;34m\u001b[0m\u001b[0m\n\u001b[1;32m   2060\u001b[0m         \u001b[0;32melse\u001b[0m\u001b[0;34m:\u001b[0m\u001b[0;34m\u001b[0m\u001b[0m\n\u001b[0;32m-> 2061\u001b[0;31m             \u001b[0;32mreturn\u001b[0m \u001b[0minterp_func\u001b[0m\u001b[0;34m(\u001b[0m\u001b[0mx\u001b[0m\u001b[0;34m,\u001b[0m \u001b[0mxp\u001b[0m\u001b[0;34m,\u001b[0m \u001b[0mfp\u001b[0m\u001b[0;34m,\u001b[0m \u001b[0mleft\u001b[0m\u001b[0;34m,\u001b[0m \u001b[0mright\u001b[0m\u001b[0;34m)\u001b[0m\u001b[0;34m\u001b[0m\u001b[0m\n\u001b[0m\u001b[1;32m   2062\u001b[0m     \u001b[0;32melse\u001b[0m\u001b[0;34m:\u001b[0m\u001b[0;34m\u001b[0m\u001b[0m\n\u001b[1;32m   2063\u001b[0m         \u001b[0;32mif\u001b[0m \u001b[0mperiod\u001b[0m \u001b[0;34m==\u001b[0m \u001b[0;36m0\u001b[0m\u001b[0;34m:\u001b[0m\u001b[0;34m\u001b[0m\u001b[0m\n",
      "\u001b[0;31mKeyboardInterrupt\u001b[0m: "
     ]
    }
   ],
   "source": [
    "result = []\n",
    "startDate0 = np.datetime64('2015-01-01')\n",
    "finishDate = np.datetime64('2018-12-31')\n",
    "startDate18 = np.datetime64('2018-01-08')\n",
    "\n",
    "days_for_predict = 10\n",
    "bond_count =2\n",
    "N = 100\n",
    "z = 0\n",
    "\n",
    "bond_price = {}\n",
    "for i in range(bond_count):\n",
    "    data = pd.read_excel('New data/офз_данные.xlsx', i, index_col=2).iloc[:, 5:6]\n",
    "    data.columns=['price']\n",
    "    bond_price[i] = data\n",
    "    \n",
    "#result = pd.DataFrame(columns=['forDate', 'VaR', 'loss'])\n",
    "\n",
    "for forecastDate in dates[(dates >= startDate18) & (dates <= finishDate)][:]:\n",
    "    \n",
    "    startDate = startDate0# + (forecastDate - startDate18)\n",
    "    \n",
    "    tradeDate =  ClosestTradeDate(forecastDate-1, dates)\n",
    "    \n",
    "    print('last traid date before forecase', tradeDate)\n",
    "    print('forecast date', forecastDate)\n",
    "    bond_info = load_bonds(bond_count, tradeDate)\n",
    "    \n",
    "#     pca = PCA(n_components=n_components)\n",
    "#     components_for = pca.fit_transform(ir_diff.loc[startDate : tradeDate])\n",
    "    components_for = components[(dates <= tradeDate) & (dates >= startDate)]\n",
    "    params = estimate_params_MSE(components_for, n_components)\n",
    "    #print(params)\n",
    "    r0_diff = components_for[-1]\n",
    "    r0 = ir.loc[ClosestTradeDate(tradeDate-1, dates)]\n",
    "    \n",
    "    bond_info = estimate_r(bond_count, params,  r0_diff, days_for_predict=days_for_predict, N=N)\n",
    "    bond_info = interpolate(bond_count, pca, r0, bond_info, N, days_for_predict)\n",
    "    bond_info = estimate_price(bond_count, bond_info, N, tradeDate)\n",
    "    \n",
    "    p0, p_last = load_real_price(bond_count, bond_price, tradeDate, forecastDate)\n",
    "\n",
    "    bond_info = make_true_price_path(bond_count, bond_info, p0, N, days_for_predict)\n",
    "    \n",
    "    porfolio_path = np.array([bond_info[i]['price_path'] for i in range(bond_count)])\n",
    "\n",
    "    amount0 = np.array([10e6]*bond_count)\n",
    "    \n",
    "    VaR, distr, portfolio_value = estimate_VaR(amount0, porfolio_path, N)\n",
    "    \n",
    "    loss = real_loss(p0, p_last, amount0 )\n",
    "    \n",
    "    print('VaR', VaR, 'loss', loss)\n",
    "    \n",
    "    #result.append([forecastDate, VaR, loss])\n",
    "    \n",
    "    if loss > VaR:\n",
    "        z += 1\n",
    "    print(z)"
   ]
  },
  {
   "cell_type": "code",
   "execution_count": 80,
   "metadata": {},
   "outputs": [
    {
     "data": {
      "text/plain": [
       "(100,)"
      ]
     },
     "execution_count": 80,
     "metadata": {},
     "output_type": "execute_result"
    }
   ],
   "source": [
    "portfolio_value.shape"
   ]
  },
  {
   "cell_type": "code",
   "execution_count": 81,
   "metadata": {},
   "outputs": [
    {
     "data": {
      "image/png": "[encoded data removed]",
      "text/plain": [
       "<Figure size 432x288 with 1 Axes>"
      ]
     },
     "metadata": {},
     "output_type": "display_data"
    }
   ],
   "source": [
    "plt.plot(np.vstack([[amount0.sum()]*N, portfolio_value])[:10]);"
   ]
  },
  {
   "cell_type": "code",
   "execution_count": 82,
   "metadata": {},
   "outputs": [
    {
     "data": {
      "image/png": "[encoded data removed]",
      "text/plain": [
       "<Figure size 432x288 with 1 Axes>"
      ]
     },
     "metadata": {},
     "output_type": "display_data"
    }
   ],
   "source": [
    "plt.hist(distr, bins=20);"
   ]
  },
  {
   "cell_type": "code",
   "execution_count": 83,
   "metadata": {},
   "outputs": [
    {
     "data": {
      "text/plain": [
       "(-0.014609007253773, 0.0006947184910519049)"
      ]
     },
     "execution_count": 83,
     "metadata": {},
     "output_type": "execute_result"
    }
   ],
   "source": [
    "VaR, loss"
   ]
  },
  {
   "cell_type": "code",
   "execution_count": 84,
   "metadata": {
    "scrolled": true
   },
   "outputs": [
    {
     "data": {
      "text/plain": [
       "0.04032258064516129"
      ]
     },
     "execution_count": 84,
     "metadata": {},
     "output_type": "execute_result"
    }
   ],
   "source": [
    "z/len(dates[dates >= np.datetime64('2018-01-06')][:])"
   ]
  },
  {
   "cell_type": "code",
   "execution_count": null,
   "metadata": {},
   "outputs": [],
   "source": []
  },
  {
   "cell_type": "code",
   "execution_count": null,
   "metadata": {},
   "outputs": [],
   "source": []
  }
 ],
 "metadata": {
  "kernelspec": {
   "display_name": "Python 3",
   "language": "python",
   "name": "python3"
  },
  "language_info": {
   "codemirror_mode": {
    "name": "ipython",
    "version": 3
   },
   "file_extension": ".py",
   "mimetype": "text/x-python",
   "name": "python",
   "nbconvert_exporter": "python",
   "pygments_lexer": "ipython3",
   "version": "3.6.5"
  }
 },
 "nbformat": 4,
 "nbformat_minor": 2
}
