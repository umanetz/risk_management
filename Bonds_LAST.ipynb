{
 "cells": [
  {
   "cell_type": "code",
   "execution_count": null,
   "metadata": {},
   "outputs": [],
   "source": []
  },
  {
   "cell_type": "code",
   "execution_count": 1,
   "metadata": {},
   "outputs": [],
   "source": [
    "import numpy as np\n",
    "import pandas as pd\n",
    "from sklearn.decomposition import PCA\n",
    "from scipy.optimize import minimize\n",
    "import matplotlib.pyplot as plt\n",
    "from tqdm import tqdm_notebook as tqdm\n",
    "%matplotlib inline"
   ]
  },
  {
   "cell_type": "markdown",
   "metadata": {},
   "source": [
    "__Vasicek Model:__ $dr_t = \\alpha(b-r_t)dt + \\sigma dW_t$   \n",
    "Точное решение: $r_t \\sim N\\left(r_0 e^{-\\alpha t} + b (1-e^{-\\alpha t}),\\,\\tfrac{\\sigma^2}{2\\alpha}\\left(1-e^{-2\\alpha t}\\right)\\right)\n",
    "$"
   ]
  },
  {
   "cell_type": "code",
   "execution_count": 2,
   "metadata": {},
   "outputs": [],
   "source": [
    "def minimizeNLogLikelihood(r):\n",
    "    dt = 1 \n",
    "    rt = r    \n",
    "    N = r.shape[0]\n",
    "    params0 = np.array([0.0000001,0.5, 0.0000001])\n",
    "    \n",
    "    def VasicekLogLikelihood(params):\n",
    "        alpha, b, sigma = params[0], params[1], params[2] \n",
    "        return -(N-1)*np.log(alpha/(sigma**2*(1-np.exp(-2*alpha*dt)))) \\\n",
    "            - alpha/(sigma**2*(1-np.exp(-2*alpha*dt)))*np.sum(-(rt[:-1] - rt[1:]*np.exp(-alpha*dt)-b*(1-np.exp(-alpha*dt)))**2) \n",
    "    \n",
    "    params_opt = minimize(VasicekLogLikelihood, params0, method='Powell')\n",
    "    return params_opt.x"
   ]
  },
  {
   "cell_type": "code",
   "execution_count": 3,
   "metadata": {},
   "outputs": [],
   "source": [
    "def MSE(r):\n",
    "\n",
    "    dt = 1 \n",
    "    N = r.shape[0]\n",
    "    params0 = np.array([0.0000001,0.0000001,0.0000001])\n",
    "    \n",
    "    def VasicekLogLikelihood(params):\n",
    "        alpha, b, sigma = params[0], params[1], params[2] \n",
    "        return np.mean((r[1:] - r[:-1] - (alpha*(b -r[:-1]) + sigma*np.random.randn()))**2)\n",
    "    \n",
    "    params_opt = minimize(VasicekLogLikelihood, params0, method='Powell')\n",
    "    return params_opt.x"
   ]
  },
  {
   "cell_type": "code",
   "execution_count": 4,
   "metadata": {},
   "outputs": [],
   "source": [
    "def ClosestTradeDate(day, days_for_predict, dates):\n",
    "    return dates[dates < day][-days_for_predict]\n",
    "    "
   ]
  },
  {
   "cell_type": "code",
   "execution_count": 5,
   "metadata": {},
   "outputs": [],
   "source": [
    "def estimate_params(components, n_components):\n",
    "    params = np.zeros((n_components,3))\n",
    "\n",
    "    for i in range(n_components):\n",
    "        params[i] = minimizeNLogLikelihood(components[:,i])\n",
    "\n",
    "    return params"
   ]
  },
  {
   "cell_type": "code",
   "execution_count": 6,
   "metadata": {},
   "outputs": [],
   "source": [
    "def estimate_params_MSE(components, n_components):\n",
    "    params = np.zeros((n_components,3))\n",
    "\n",
    "    for i in range(n_components):\n",
    "        params[i] = MSE(components[:,i])\n",
    "\n",
    "    return params"
   ]
  },
  {
   "cell_type": "code",
   "execution_count": 7,
   "metadata": {},
   "outputs": [],
   "source": [
    "def load_bonds(bond_count, forDate):\n",
    " \n",
    "    bond_info = {}\n",
    "\n",
    "    for i in range( bond_count):\n",
    "        bond_i = i\n",
    "\n",
    "        coupons =pd.read_excel('New data/офз_график_выплат.xlsx', bond_i)[['Date', 'Coupon']].astype({'Date':'M8[D]'})\n",
    "\n",
    "        coupons_date = coupons['Date'].values\n",
    "\n",
    "\n",
    "    \n",
    "        info = pd.read_excel('New data/офз_описание.xlsx',bond_i, index_col=0)\n",
    "        num_coupons = info.loc['Периодичность выплаты купона в год'].values[0]\n",
    "        \n",
    "        coupons_rate = coupons['Coupon'].values/num_coupons/100\n",
    "        coupons_rate = coupons_rate[coupons_date > forDate]\n",
    "\n",
    "        coupons_date = coupons_date[coupons_date > forDate].reshape(-1,1)\n",
    "        expDate = np.datetime64(info.loc['Дата погашения'].values[0])\n",
    "\n",
    "        face = info.loc['Номинальная стоимость'].values[0]\n",
    "\n",
    "        bond_info[i] = {\n",
    "            'coupons_date': coupons_date,\n",
    "            'coupons_rate': coupons_rate,\n",
    "            'expDate': expDate,\n",
    "            'face': face\n",
    "        }\n",
    "    return bond_info\n"
   ]
  },
  {
   "cell_type": "code",
   "execution_count": 8,
   "metadata": {},
   "outputs": [],
   "source": [
    "# def VasicekPath(params,r0, N):\n",
    "#     dt = 1    \n",
    "#     alpha, b, sigma = params[0], params[1], params[2]\n",
    "#     r = [] # варианты аля-ставки на один из аля-TtM  \n",
    "#     for j in range(N):\n",
    "#         r1 = r0 + alpha*(b-r0)*dt + sigma*np.sqrt(dt)*np.random.randn()\n",
    "#         r.append(r1)\n",
    "#     return r\n",
    "\n",
    "def VasicekPath(params,r0, N, days_for_predict):\n",
    "    dt = 1    \n",
    "    alpha, b, sigma = params[0], params[1], params[2]\n",
    "    simulations = np.zeros((N,days_for_predict)) # варианты аля-ставки на один из аля-TtM  \n",
    "    \n",
    "    \n",
    "    for j in range(N):\n",
    "        r = [r0]\n",
    "        for d in range(days_for_predict):\n",
    "            R = alpha*(b-r[-1])*dt + sigma*np.sqrt(dt)*np.random.randn()\n",
    "            r.append(r[-1] + R)\n",
    "        simulations[j] = r[1:]\n",
    "    return simulations"
   ]
  },
  {
   "cell_type": "code",
   "execution_count": 9,
   "metadata": {},
   "outputs": [],
   "source": [
    "from scipy.interpolate import interp1d\n",
    "\n",
    "\n",
    "def interpolate(bond_count, pca, r0, bond_info, N, days_for_predict):\n",
    "    inverse_r0 = np.array([r0.values for i in range(N)])\n",
    "    \n",
    "    x_axis = [0]+list(r0.index*252)\n",
    "    xnew = np.arange(0, 30*252, 1)\n",
    "    \n",
    "    for bond_i in range(bond_count):\n",
    "    #переводим аля-ставки в разности реальных ставок \n",
    "        inverse_r = pca.inverse_transform(bond_info[bond_i]['simulations'])\n",
    "        ytm = np.cumsum(np.concatenate((inverse_r0[None, :, :], inverse_r)), 0)\n",
    "\n",
    "        inverse_r_interpolate = np.zeros((days_for_predict+1, N, len(xnew)))\n",
    "\n",
    "        for i, data in enumerate(ytm):\n",
    "            for k, ofz in enumerate(data):\n",
    "                y = [0]+list(ofz)\n",
    "\n",
    "                f = interp1d(x_axis, y)\n",
    "                ynew = f(xnew)\n",
    "\n",
    "                inverse_r_interpolate[i, k] = ynew\n",
    "                \n",
    "        bond_info[bond_i]['inverse_r_interpolate'] = inverse_r_interpolate\n",
    "    return bond_info"
   ]
  },
  {
   "cell_type": "code",
   "execution_count": 10,
   "metadata": {},
   "outputs": [],
   "source": [
    "def PriceBond(bond_params, tradeDate, days_for_predict,  N=10):\n",
    "    coupons_date = bond_params['coupons_date']\n",
    "    couponRate = bond_params['coupons_rate']\n",
    "    FaseValue = bond_params['face']/10\n",
    "    inverse_r_interpolate = bond_params['inverse_r_interpolate']\n",
    "\n",
    "    TimeToMaturity = np.apply_along_axis(lambda x: int((x - tradeDate)/np.timedelta64(1,'D')), 1, coupons_date)\n",
    "    B = np.zeros((N, days_for_predict+1))\n",
    "\n",
    "    for i in range(N): \n",
    "        \n",
    "        #для каждого купона считаем его динамику цены (делим значение купона на показатель дисконтирования)\n",
    "        for j, k in enumerate(TimeToMaturity):        \n",
    "            V = FaseValue*couponRate[j] if j != len(TimeToMaturity)-1 else FaseValue*(1+couponRate[j])  \n",
    "\n",
    "            X = []\n",
    "            \n",
    "            for d in range(days_for_predict+1):\n",
    "                X.append(V/(1+inverse_r_interpolate[d][i][k-d])**(k-d))\n",
    "\n",
    "            B[i] += X\n",
    "        \n",
    "    return B"
   ]
  },
  {
   "cell_type": "code",
   "execution_count": 11,
   "metadata": {},
   "outputs": [],
   "source": [
    "def estimate_r(bond_count, params, r0_diff,bond_info, days_for_predict=1,  N=100):\n",
    "    for bond_i in range(bond_count):\n",
    "        r = []    \n",
    "        for j in range(params.shape[0]):        \n",
    "            r.append(VasicekPath(params[j], r0_diff[j], N, days_for_predict))\n",
    "\n",
    "        bond_info[bond_i]['simulations'] = np.array(r).T\n",
    "    return bond_info"
   ]
  },
  {
   "cell_type": "code",
   "execution_count": 12,
   "metadata": {},
   "outputs": [],
   "source": [
    "def estimate_price(bond_count, bond_info, N, tradeDate, days_for_predict):\n",
    "\n",
    "    for i in range(bond_count):\n",
    "\n",
    "        p = PriceBond(bond_info[i], tradeDate,  days_for_predict, N=N)\n",
    "\n",
    "        bond_info[i]['price_path'] = p\n",
    "        \n",
    "        \n",
    "    return bond_info"
   ]
  },
  {
   "cell_type": "markdown",
   "metadata": {},
   "source": [
    "### смотрим на весь портфель из облигаций на 1 день"
   ]
  },
  {
   "cell_type": "code",
   "execution_count": 13,
   "metadata": {},
   "outputs": [],
   "source": [
    "def load_real_price(bond_count, price_data, tradeDate, forecastDate):\n",
    "    price_path = []\n",
    "\n",
    "    for i in range(bond_count):\n",
    "#         bond_price = pd.read_excel('New data/офз_данные.xlsx', i, index_col=2).iloc[:, 6:7]\n",
    "#         bond_price.columns=['price']\n",
    "        bond_price = price_data[i]\n",
    "\n",
    "        price_path.append(bond_price.loc[tradeDate:forecastDate]['price'])\n",
    "        \n",
    "\n",
    "#         bond_result = bond_info[i]\n",
    "#         dates_index = pd.date_range(tradeDate1, bond_result['expDate'])[:-1]\n",
    "#         p_path = pd.DataFrame(bond_result['price_path'], columns=dates_index)\n",
    "        \n",
    "\n",
    "\n",
    "    return np.array(price_path)"
   ]
  },
  {
   "cell_type": "code",
   "execution_count": 14,
   "metadata": {},
   "outputs": [],
   "source": [
    "def pricePortfolioInitial(p_real, bond_value = 1):\n",
    "    w = bond_value/p_real\n",
    "    return np.sum(w*p_real), w\n",
    "\n",
    "def pricePortfolio(price, w):\n",
    "    if len(price.shape) == 2:\n",
    "        return np.sum(w[:, None]*price, 0)\n",
    "    else: \n",
    "        return np.sum(w*price)"
   ]
  },
  {
   "cell_type": "code",
   "execution_count": 15,
   "metadata": {},
   "outputs": [],
   "source": [
    "def rebalance(amount0, p_path):\n",
    "    history_value = [sum(amount0)]\n",
    "    \n",
    "    w = amount0 / sum(amount0)\n",
    "    count = amount0 / p_path[:, 0]\n",
    "    \n",
    "    \n",
    "    for i in range(1, p_path.shape[1]):\n",
    "        p = p_path[:, i]\n",
    "        port_value = sum(p * count)\n",
    "        count = (port_value * w) / p\n",
    "        history_value.append(port_value)\n",
    "\n",
    "    return sum(count * p), np.array(history_value)\n",
    "\n",
    "\n",
    "def estimate_VaR(amount0, p_pathes, N, alpha=0.99):\n",
    "    p0_real = p_pathes[:, 0, 0]\n",
    "    \n",
    "    port_value_0 = sum(amount0)\n",
    "    \n",
    "    port_value_last = np.zeros(N)\n",
    "    history_value = []\n",
    "    \n",
    "    for i in range(N):\n",
    "        p_path = np.array([x[i] for x in p_pathes])\n",
    "        port_value_last[i], v  = rebalance(amount0, p_path)\n",
    "        history_value.append(v)\n",
    "        \n",
    "    distr = (port_value_0 - port_value_last) / port_value_0\n",
    "\n",
    "    return np.percentile(distr, alpha*100), distr, np.array(history_value)\n",
    "    \n",
    "def real_loss(market_path, amount0):\n",
    "    balance, history = rebalance(amount0, market_path)\n",
    "    return((sum(amount0) - balance) / sum(amount0)), history\n",
    "    "
   ]
  },
  {
   "cell_type": "code",
   "execution_count": 16,
   "metadata": {},
   "outputs": [],
   "source": [
    "def make_true_price_path(bond_count, bond_info, p0_real, N, days_for_predict):\n",
    "    \n",
    "    \n",
    "    for i in range(bond_count):\n",
    "        yields = bond_info[i]['price_path'][:, 1:] / bond_info[i]['price_path'][:, :-1]\n",
    "        yields = yields[:, :days_for_predict]\n",
    "\n",
    "        bond_info[i]['price_path'] = np.cumprod(np.concatenate((p0_real[i] + np.zeros((N,1)), \n",
    "                   yields), 1), 1)\n",
    "        \n",
    "        \n",
    "    return  bond_info    "
   ]
  },
  {
   "cell_type": "code",
   "execution_count": 23,
   "metadata": {},
   "outputs": [],
   "source": [
    "from IPython.display import clear_output\n"
   ]
  },
  {
   "cell_type": "code",
   "execution_count": 28,
   "metadata": {},
   "outputs": [],
   "source": [
    "def main(days_for_predict, N= 100, startDate18 = np.datetime64('2018-01-15'), \n",
    "         finishDate = np.datetime64('2018-12-31'), startDate0 = np.datetime64('2015-01-01')\n",
    "        ):\n",
    "    \n",
    "    bond_count = 5\n",
    "    n_components = 3\n",
    "    breaking = 0\n",
    "    \n",
    "    ir = pd.read_excel('офз.xlsx', index_col=0, header=1) / 100/252\n",
    "\n",
    "    dates = np.array(['-'.join(x.split('.')[::-1]) for x in ir.index]).astype('M8[D]')\n",
    "    ir.index = dates\n",
    "    ir.sort_index(inplace=True)\n",
    "    ir_diff = ir.diff().dropna()# берем разности\n",
    "    \n",
    "    dates = dates[::-1][1:]\n",
    "\n",
    "    bond_price = {}\n",
    "    \n",
    "    for i in range(bond_count):\n",
    "        data = pd.read_excel('New data/офз_данные.xlsx', i, index_col=2).iloc[:, 5:6]\n",
    "        data.columns=['price']\n",
    "        bond_price[i] = data\n",
    "\n",
    "\n",
    "    for iters, forecastDate in enumerate(dates[(dates >= startDate18) & (dates <= finishDate)]):\n",
    "\n",
    "        startDate = startDate0# + (forecastDate - startDate18)\n",
    "\n",
    "        tradeDate =  ClosestTradeDate(forecastDate, days_for_predict, dates)\n",
    "\n",
    "#         print('forecast date', forecastDate)\n",
    "#         print('last traid date before forecase', tradeDate)\n",
    "        \n",
    "        bond_info = load_bonds(bond_count, tradeDate)\n",
    "\n",
    "        pca = PCA(n_components=n_components)\n",
    "        components_for = pca.fit_transform(ir_diff.loc[startDate : tradeDate])\n",
    "        #components_for = components[(dates <= tradeDate) & (dates >= startDate)]\n",
    "        params = estimate_params(components_for, n_components)\n",
    "\n",
    "        r0_diff = components_for[-1]\n",
    "        r0 = ir.loc[ClosestTradeDate(forecastDate, days_for_predict, dates)]\n",
    "\n",
    "        bond_info = estimate_r(bond_count, params,  r0_diff, bond_info, days_for_predict=days_for_predict, N=N)\n",
    "        bond_info = interpolate(bond_count, pca, r0, bond_info, N, days_for_predict)\n",
    "        bond_info = estimate_price(bond_count, bond_info, N, tradeDate, days_for_predict)\n",
    "\n",
    "        price_market = load_real_price(bond_count, bond_price, tradeDate, forecastDate)\n",
    "\n",
    "        bond_info = make_true_price_path(bond_count, bond_info, price_market[:, 0], N, days_for_predict)\n",
    "\n",
    "        porfolio_path = np.array([bond_info[i]['price_path'] for i in range(bond_count)])\n",
    "\n",
    "        amount0 = np.array([10e6]*bond_count)\n",
    "\n",
    "        VaR, distr, esimetion_history = estimate_VaR(amount0, porfolio_path, N)\n",
    "\n",
    "        loss, history = real_loss(price_market, amount0 )\n",
    "\n",
    "        #print('VaR', VaR, 'loss', loss)\n",
    "\n",
    "        if loss > VaR:\n",
    "            breaking += 1\n",
    "\n",
    "        share = breaking/len(dates[dates >= startDate18])*100\n",
    "        clear_output()\n",
    "        print('Итерация {}'.format(iters))\n",
    "        print('Доля пробитий для периода {} дней = {:.4f}%'.format(days_for_predict, share))\n",
    "        \n",
    "        \n",
    "    return {\n",
    "        'VaR': VaR,\n",
    "        'loss': loss,\n",
    "        'esimetion_history': esimetion_history,\n",
    "        'porfolio_history': history,\n",
    "        'value_distribution': distr,\n",
    "        'breaking': breaking\n",
    "    }"
   ]
  },
  {
   "cell_type": "code",
   "execution_count": 29,
   "metadata": {
    "scrolled": true
   },
   "outputs": [
    {
     "name": "stdout",
     "output_type": "stream",
     "text": [
      "Итерация 243\n",
      "Доля пробитий для периода 1 дней = 2.4590%\n"
     ]
    }
   ],
   "source": [
    "dict_result = main(1, N=500)"
   ]
  },
  {
   "cell_type": "code",
   "execution_count": 30,
   "metadata": {},
   "outputs": [
    {
     "name": "stdout",
     "output_type": "stream",
     "text": [
      "Итерация 243\n",
      "Доля пробитий для периода 10 дней = 0.8197%\n"
     ]
    }
   ],
   "source": [
    "dict_result2 = main(10, N=300)"
   ]
  },
  {
   "cell_type": "code",
   "execution_count": 40,
   "metadata": {},
   "outputs": [
    {
     "name": "stdout",
     "output_type": "stream",
     "text": [
      "Итерация 0\n",
      "Доля пробитий для периода 1 дней = 0.0000%\n"
     ]
    }
   ],
   "source": [
    "dict_result_3_1 = main(1, N=2000, startDate18=np.datetime64('2018-12-03'), finishDate=np.datetime64('2018-12-03'))"
   ]
  },
  {
   "cell_type": "code",
   "execution_count": 92,
   "metadata": {},
   "outputs": [
    {
     "data": {
      "image/png": "[encoded data removed]",
      "text/plain": [
       "<Figure size 504x360 with 1 Axes>"
      ]
     },
     "metadata": {},
     "output_type": "display_data"
    }
   ],
   "source": [
    "plt.figure(figsize=(7, 5))\n",
    "\n",
    "for i in range(50):\n",
    "    plt.plot(['2018-11-30', '2018-12-03'], dict_result_3_1['esimetion_history'][i], c='gray', alpha=0.3)\n",
    "\n",
    "plt.plot(['2018-11-30', '2018-12-03'], dict_result_3_1['porfolio_history'], linewidth=3, label='real price')\n",
    "plt.xticks(rotation=20);\n",
    "plt.legend();"
   ]
  },
  {
   "cell_type": "code",
   "execution_count": 93,
   "metadata": {},
   "outputs": [
    {
     "data": {
      "text/plain": [
       "<matplotlib.legend.Legend at 0x1a1abc07b8>"
      ]
     },
     "execution_count": 93,
     "metadata": {},
     "output_type": "execute_result"
    },
    {
     "data": {
      "image/png": "[encoded data removed]",
      "text/plain": [
       "<Figure size 504x360 with 1 Axes>"
      ]
     },
     "metadata": {},
     "output_type": "display_data"
    }
   ],
   "source": [
    "plt.figure(figsize=(7, 5))\n",
    "\n",
    "\n",
    "plt.hist(dict_result_3_1['value_distribution'], bins=20, color='gray', alpha=0.7);\n",
    "\n",
    "plt.title('Distribution of losses {}   \\n   VaR = {:.5f}\\n\\\n",
    "          Real loss ={:.4f}'.format('03-12-2018', \n",
    "                                    dict_result_3_1['VaR'], dict_result_3_1['loss']),\n",
    "          size=12);\n",
    "plt.plot([dict_result_3_1['VaR']]*2, [0, 290], label='VaR', c='orange')\n",
    "plt.xlabel('loses', size=12)\n",
    "plt.legend(fontsize = 'large')"
   ]
  },
  {
   "cell_type": "code",
   "execution_count": 94,
   "metadata": {},
   "outputs": [
    {
     "name": "stdout",
     "output_type": "stream",
     "text": [
      "Итерация 0\n",
      "Доля пробитий для периода 10 дней = 0.0000%\n"
     ]
    }
   ],
   "source": [
    "dict_result_3_10 = main(10, N=1000, startDate18=np.datetime64('2018-12-03'), finishDate=np.datetime64('2018-12-03'))"
   ]
  },
  {
   "cell_type": "code",
   "execution_count": 98,
   "metadata": {},
   "outputs": [
    {
     "data": {
      "image/png": "[encoded data removed]",
      "text/plain": [
       "<Figure size 504x360 with 1 Axes>"
      ]
     },
     "metadata": {},
     "output_type": "display_data"
    }
   ],
   "source": [
    "plt.figure(figsize=(7, 5))\n",
    "\n",
    "dates = ['2018-11-19', '2018-11-20', '2018-11-21', '2018-11-22', '2018-11-23', '2018-11-26', '2018-11-27', '2018-11-28', '2018-11-29', '2018-11-30', '2018-12-03']\n",
    "\n",
    "for i in range(50):\n",
    "    plt.plot(dates, dict_result_3_10['esimetion_history'][i], c='gray', alpha=0.3)\n",
    "\n",
    "plt.plot(dates, dict_result_3_10['porfolio_history'], linewidth=3, label='real price')\n",
    "plt.xticks(rotation=20);\n",
    "plt.legend();"
   ]
  },
  {
   "cell_type": "code",
   "execution_count": 99,
   "metadata": {},
   "outputs": [
    {
     "data": {
      "text/plain": [
       "<matplotlib.legend.Legend at 0x107242ac8>"
      ]
     },
     "execution_count": 99,
     "metadata": {},
     "output_type": "execute_result"
    },
    {
     "data": {
      "image/png": "[encoded data removed]",
      "text/plain": [
       "<Figure size 504x360 with 1 Axes>"
      ]
     },
     "metadata": {},
     "output_type": "display_data"
    }
   ],
   "source": [
    "plt.figure(figsize=(7, 5))\n",
    "\n",
    "\n",
    "plt.hist(dict_result_3_10['value_distribution'], bins=20, color='gray', alpha=0.7);\n",
    "\n",
    "plt.title('Distribution of losses {}   \\n   VaR = {:.5f}\\n\\\n",
    "          Real loss ={:.4f}'.format('03-12-2018', \n",
    "                                    dict_result_3_10['VaR'], dict_result_3_10['loss']),\n",
    "          size=12);\n",
    "plt.plot([dict_result_3_10['VaR']]*2, [0, 150], label='VaR', c='orange')\n",
    "plt.xlabel('loses', size=12)\n",
    "plt.legend(fontsize = 'large')"
   ]
  },
  {
   "cell_type": "code",
   "execution_count": 21,
   "metadata": {},
   "outputs": [],
   "source": [
    "# ir = pd.read_excel('офз.xlsx', index_col=0, header=1) / 100/252\n",
    "\n",
    "# dates = np.array(['-'.join(x.split('.')[::-1]) for x in ir.index]).astype('M8[D]')\n",
    "# ir.index = dates\n",
    "# ir.sort_index(inplace=True)\n",
    "# dates = dates[::-1][1:]\n",
    "\n",
    "# ir_diff = ir.diff().dropna()# берем разности\n",
    "\n",
    "# n_components = 3\n",
    "# # pca = PCA(n_components=n_components)\n",
    "# # components = pca.fit_transform(ir_diff)\n",
    "\n"
   ]
  },
  {
   "cell_type": "code",
   "execution_count": 52,
   "metadata": {
    "scrolled": true
   },
   "outputs": [],
   "source": [
    "# result = []\n",
    "# startDate0 = np.datetime64('2015-01-01')\n",
    "# finishDate = np.datetime64('2018-12-31')\n",
    "# startDate18 = np.datetime64('2018-01-15')\n",
    "\n",
    "# days_for_predict = 1\n",
    "# bond_count = 5\n",
    "# N = 200\n",
    "# z = 0\n",
    "\n",
    "# bond_price = {}\n",
    "# for i in range(bond_count):\n",
    "#     data = pd.read_excel('New data/офз_данные.xlsx', i, index_col=2).iloc[:, 5:6]\n",
    "#     data.columns=['price']\n",
    "#     bond_price[i] = data\n",
    "    \n",
    "# #result = pd.DataFrame(columns=['forDate', 'VaR', 'loss'])\n",
    "\n",
    "# for forecastDate in dates[(dates >= startDate18) & (dates <= finishDate)][:]:\n",
    "    \n",
    "#     startDate = startDate0# + (forecastDate - startDate18)\n",
    "    \n",
    "#     tradeDate =  ClosestTradeDate(forecastDate, days_for_predict, dates)\n",
    "    \n",
    "#     print('last traid date before forecase', tradeDate)\n",
    "#     print('forecast date', forecastDate)\n",
    "#     bond_info = load_bonds(bond_count, tradeDate)\n",
    "    \n",
    "#     pca = PCA(n_components=n_components)\n",
    "#     components_for = pca.fit_transform(ir_diff.loc[startDate : tradeDate])\n",
    "#     #components_for = components[(dates <= tradeDate) & (dates >= startDate)]\n",
    "#     params = estimate_params(components_for, n_components)\n",
    "    \n",
    "#     #print(params)\n",
    "#     r0_diff = components_for[-1]\n",
    "#     r0 = ir.loc[ClosestTradeDate(forecastDate, days_for_predict, dates)]\n",
    "    \n",
    "#     bond_info = estimate_r(bond_count, params,  r0_diff, bond_info, days_for_predict=days_for_predict, N=N)\n",
    "#     bond_info = interpolate(bond_count, pca, r0, bond_info, N, days_for_predict)\n",
    "#     bond_info = estimate_price(bond_count, bond_info, N, tradeDate, days_for_predict)\n",
    "\n",
    "\n",
    "#     price_market = load_real_price(bond_count, bond_price, tradeDate, forecastDate)\n",
    "\n",
    "#     bond_info = make_true_price_path(bond_count, bond_info, price_market[:, 0], N, days_for_predict)\n",
    "    \n",
    "#     porfolio_path = np.array([bond_info[i]['price_path'] for i in range(bond_count)])\n",
    "\n",
    "#     amount0 = np.array([10e6]*bond_count)\n",
    "    \n",
    "#     VaR, distr, portfolio_value = estimate_VaR(amount0, porfolio_path, N)\n",
    "    \n",
    "#     loss, history = real_loss(price_market, amount0 )\n",
    "    \n",
    "#     print('VaR', VaR, 'loss', loss)\n",
    "    \n",
    "#     #result.append([forecastDate, VaR, loss])\n",
    "    \n",
    "#     if loss > VaR:\n",
    "#         z += 1\n",
    "#     print(z)"
   ]
  },
  {
   "cell_type": "code",
   "execution_count": null,
   "metadata": {},
   "outputs": [],
   "source": []
  },
  {
   "cell_type": "code",
   "execution_count": null,
   "metadata": {},
   "outputs": [],
   "source": []
  }
 ],
 "metadata": {
  "kernelspec": {
   "display_name": "Python 3",
   "language": "python",
   "name": "python3"
  },
  "language_info": {
   "codemirror_mode": {
    "name": "ipython",
    "version": 3
   },
   "file_extension": ".py",
   "mimetype": "text/x-python",
   "name": "python",
   "nbconvert_exporter": "python",
   "pygments_lexer": "ipython3",
   "version": "3.6.5"
  }
 },
 "nbformat": 4,
 "nbformat_minor": 2
}
